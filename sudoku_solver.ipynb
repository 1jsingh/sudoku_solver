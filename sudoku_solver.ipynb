{
 "cells": [
  {
   "cell_type": "code",
   "execution_count": 11,
   "metadata": {},
   "outputs": [],
   "source": [
    "import numpy as np"
   ]
  },
  {
   "cell_type": "code",
   "execution_count": 5,
   "metadata": {},
   "outputs": [],
   "source": [
    "# representing a sudoku puzzle\n",
    "sudoku_grid = '2.............62....1....7...6..8...3...9...7...6..4...4....8....52.............3'\n"
   ]
  },
  {
   "cell_type": "code",
   "execution_count": 12,
   "metadata": {},
   "outputs": [],
   "source": [
    "def get_num_grid(grid):\n",
    "    assert len(grid)==81,\"Invalid input for sudoku puzzle\"\n",
    "    \n",
    "    num_grid = []\n",
    "    for val in grid:\n",
    "        if val == '.':\n",
    "            num_grid.append(0)\n",
    "        else:\n",
    "            num_grid.append(int(val))\n",
    "    num_grid = np.array(num_grid).reshape(9,9)\n",
    "    return num_grid"
   ]
  },
  {
   "cell_type": "code",
   "execution_count": 15,
   "metadata": {},
   "outputs": [],
   "source": [
    "num_grid = get_num_grid(sudoku_grid)"
   ]
  },
  {
   "cell_type": "code",
   "execution_count": 35,
   "metadata": {},
   "outputs": [],
   "source": [
    "def display_sudoku(num_grid):\n",
    "    for i in range(9):\n",
    "        print ('')\n",
    "        if i==3 or i==6:\n",
    "            print ('- - - - - - - - - - -')\n",
    "        for j in range(9):\n",
    "            if j==3 or j==6:\n",
    "                print ('|',end=' ')\n",
    "            if num_grid[i,j] == 0:\n",
    "                print ('.',end=' ')\n",
    "            else:\n",
    "                print (num_grid[i,j],end=' ')"
   ]
  },
  {
   "cell_type": "code",
   "execution_count": 36,
   "metadata": {},
   "outputs": [
    {
     "name": "stdout",
     "output_type": "stream",
     "text": [
      "\n",
      "2 . . | . . . | . . . \n",
      ". . . | . . 6 | 2 . . \n",
      ". . 1 | . . . | . 7 . \n",
      "- - - - - - - - - - -\n",
      ". . 6 | . . 8 | . . . \n",
      "3 . . | . 9 . | . . 7 \n",
      ". . . | 6 . . | 4 . . \n",
      "- - - - - - - - - - -\n",
      ". 4 . | . . . | 8 . . \n",
      ". . 5 | 2 . . | . . . \n",
      ". . . | . . . | . . 3 "
     ]
    }
   ],
   "source": [
    "display_sudoku(num_grid)"
   ]
  },
  {
   "cell_type": "code",
   "execution_count": null,
   "metadata": {},
   "outputs": [],
   "source": []
  }
 ],
 "metadata": {
  "kernelspec": {
   "display_name": "cv3",
   "language": "python",
   "name": "cv3"
  },
  "language_info": {
   "codemirror_mode": {
    "name": "ipython",
    "version": 3
   },
   "file_extension": ".py",
   "mimetype": "text/x-python",
   "name": "python",
   "nbconvert_exporter": "python",
   "pygments_lexer": "ipython3",
   "version": "3.6.6"
  }
 },
 "nbformat": 4,
 "nbformat_minor": 2
}
